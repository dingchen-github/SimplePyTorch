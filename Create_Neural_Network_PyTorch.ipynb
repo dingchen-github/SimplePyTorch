{
 "cells": [
  {
   "cell_type": "markdown",
   "metadata": {},
   "source": [
    "# Create Simple Neural Network with PyTorch "
   ]
  },
  {
   "cell_type": "code",
   "execution_count": 1,
   "metadata": {},
   "outputs": [],
   "source": [
    "# PyTorch is an open source machine learning library based on the Torch \n",
    "# library, used for applications such as computer vision and natural language \n",
    "# processing, primarily developed by Facebook's AI Research lab.\n",
    "# Torch is an open-source machine learning library, a scientific computing \n",
    "# framework, and a script language based on the Lua programming language.\n",
    "import torch\n",
    "import numpy as np \n",
    "import matplotlib.pyplot as plt"
   ]
  },
  {
   "cell_type": "markdown",
   "metadata": {},
   "source": [
    "## Task 1 : Loading and Visualizing MNIST Dataset "
   ]
  },
  {
   "cell_type": "code",
   "execution_count": 2,
   "metadata": {},
   "outputs": [],
   "source": [
    "# torchvision is a library of PyTorch. It consist of popular datasets, \n",
    "# model architectures, and common image transformations for computer vision.\n",
    "from torchvision import datasets, transforms as T\n",
    "\n",
    "# Transforms are common image transformations. \n",
    "# They can be chained together using Compose.\n",
    "# ToTensor: Converts a PIL (Python Image Library, or Pillow) Image or numpy.ndarray \n",
    "# (H x W x C) in the range [0, 255] to a torch.FloatTensor of shape (C x H x W) \n",
    "# in the range [0.0, 1.0] if the PIL Image belongs to one of the modes \n",
    "# (L, LA, P, I, F, RGB, YCbCr, RGBA, CMYK, 1) or if the numpy.ndarray has dtype \n",
    "# = np.uint8.\n",
    "# Normalize: Normalize a tensor image with mean and standard deviation.\n",
    "# Mean and std are sequences for each channel.\n",
    "transform = T.Compose([\n",
    "    T.ToTensor(),\n",
    "    T.Normalize((0.5),(0.5))\n",
    "])"
   ]
  },
  {
   "cell_type": "code",
   "execution_count": 3,
   "metadata": {},
   "outputs": [],
   "source": [
    "# train: If True, creates dataset from training.pt, otherwise from test.pt.\n",
    "# Returns image and label.\n",
    "trainset = datasets.MNIST('MNIST_data/', download = False, train = True, transform = transform)\n",
    "testset = datasets.MNIST('MNIST_data/', download = False, train = False, transform = transform)"
   ]
  },
  {
   "cell_type": "code",
   "execution_count": 4,
   "metadata": {},
   "outputs": [
    {
     "name": "stdout",
     "output_type": "stream",
     "text": [
      "Size of trainset: 60000\n",
      "Size of testset: 10000\n"
     ]
    }
   ],
   "source": [
    "print(\"Size of trainset: {}\".format(len(trainset)))\n",
    "print(\"Size of testset: {}\".format(len(testset)))"
   ]
  },
  {
   "cell_type": "code",
   "execution_count": 5,
   "metadata": {},
   "outputs": [
    {
     "data": {
      "text/plain": [
       "Text(0.5, 1.0, '4')"
      ]
     },
     "execution_count": 5,
     "metadata": {},
     "output_type": "execute_result"
    },
    {
     "data": {
      "image/png": "[encoded data removed]",
      "text/plain": [
       "<Figure size 432x288 with 1 Axes>"
      ]
     },
     "metadata": {
      "needs_background": "light"
     },
     "output_type": "display_data"
    }
   ],
   "source": [
    "idx = 2\n",
    "image, label = trainset[idx]\n",
    "# image is a tensor, needs to be transformed into numpy array\n",
    "# numpy.squeeze removes axes of length one\n",
    "plt.imshow(image.numpy().squeeze(), cmap = 'gray')\n",
    "plt.title(label)"
   ]
  },
  {
   "cell_type": "markdown",
   "metadata": {},
   "source": [
    "## Task 2 : Splitting Dataset and Setting DataLoader Into Train,Test and Validation Set"
   ]
  },
  {
   "cell_type": "code",
   "execution_count": 6,
   "metadata": {},
   "outputs": [],
   "source": [
    "# While training a model, we typically want to pass samples in “minibatches”, \n",
    "# reshuffle the data at every epoch to reduce model overfitting, and use \n",
    "# Python’s multiprocessing to speed up data retrieval.\n",
    "# DataLoader is an iterable that abstracts this complexity for us in an easy API.\n",
    "from torch.utils.data import DataLoader\n",
    "from torch.utils.data.sampler import SubsetRandomSampler\n",
    "\n",
    "# Split trainset into training and validation set.\n",
    "valid_size = 0.2\n",
    "num_train = len(trainset)\n",
    "split = int(np.floor(valid_size*num_train))\n",
    "indices = list(range(num_train))\n",
    "np.random.shuffle(indices)\n",
    "train_idx, valid_idx = indices[split:], indices[:split]"
   ]
  },
  {
   "cell_type": "code",
   "execution_count": 7,
   "metadata": {},
   "outputs": [],
   "source": [
    "# Samples elements randomly from a given list of indices, without replacement.\n",
    "train_sampler = SubsetRandomSampler(train_idx)\n",
    "valid_sampler = SubsetRandomSampler(valid_idx)"
   ]
  },
  {
   "cell_type": "code",
   "execution_count": 8,
   "metadata": {},
   "outputs": [],
   "source": [
    "# Already shuffled train and validation set in the sampler.\n",
    "trainloader = DataLoader(trainset, batch_size = 64, sampler = train_sampler)\n",
    "validloader = DataLoader(trainset, batch_size = 64, sampler = valid_sampler)\n",
    "testloader = DataLoader(testset, batch_size = 64, shuffle = True)"
   ]
  },
  {
   "cell_type": "code",
   "execution_count": 9,
   "metadata": {},
   "outputs": [
    {
     "name": "stdout",
     "output_type": "stream",
     "text": [
      "<class 'torch.Tensor'>\n",
      "torch.Size([64, 1, 28, 28])\n",
      "torch.Size([64])\n"
     ]
    }
   ],
   "source": [
    "dataiter = iter(trainloader)\n",
    "images, labels = dataiter.next()\n",
    "\n",
    "print(type(images))\n",
    "print(images.shape)\n",
    "print(labels.shape)"
   ]
  },
  {
   "cell_type": "code",
   "execution_count": 10,
   "metadata": {},
   "outputs": [
    {
     "name": "stdout",
     "output_type": "stream",
     "text": [
      "Batches in Trainsloader: 750\n",
      "Batches in Validloader: 188\n",
      "Batches in Testloader: 157\n",
      "Examples in Trainsloader: 48000\n",
      "Examples in Validloader: 12000\n",
      "Examples in Testloader: 10000\n"
     ]
    }
   ],
   "source": [
    "print(\"Batches in Trainsloader: {}\".format(len(trainloader)))\n",
    "print(\"Batches in Validloader: {}\".format(len(validloader)))\n",
    "print(\"Batches in Testloader: {}\".format(len(testloader)))\n",
    "\n",
    "print(\"Examples in Trainsloader: {}\".format(len(trainloader.sampler)))\n",
    "print(\"Examples in Validloader: {}\".format(len(validloader.sampler)))\n",
    "print(\"Examples in Testloader: {}\".format(len(testloader.dataset)))"
   ]
  },
  {
   "cell_type": "markdown",
   "metadata": {},
   "source": [
    "## Task 3 : Creating Neural Network or Model"
   ]
  },
  {
   "cell_type": "code",
   "execution_count": 11,
   "metadata": {},
   "outputs": [],
   "source": [
    "from torch import nn\n",
    "import torch.nn.functional as F\n",
    "\n",
    "class Classifier(nn.Module):\n",
    "    \n",
    "    def __init__(self):\n",
    "        super(Classifier, self).__init__()\n",
    "        self.linear1 = nn.Linear(28*28, 256)\n",
    "        self.linear2 = nn.Linear(256, 128)\n",
    "        self.linear3 = nn.Linear(128, 10)\n",
    "        self.dropout = nn.Dropout(p = 0.4)\n",
    "        \n",
    "    def forward(self, images):\n",
    "        # [64,1,28,28] -> [64,784]\n",
    "        images = images.view(images.shape[0], -1)\n",
    "        \n",
    "        z1 = self.linear1(images)\n",
    "        a1 = self.dropout(F.relu(z1))\n",
    "        \n",
    "        z2 = self.linear2(a1)\n",
    "        a2 = self.dropout(F.relu(z2))\n",
    "        \n",
    "        z3 = self.linear3(a2)\n",
    "        a3 = F.log_softmax(z3, dim = 1)\n",
    "        \n",
    "        return a3"
   ]
  },
  {
   "cell_type": "code",
   "execution_count": 12,
   "metadata": {},
   "outputs": [
    {
     "data": {
      "text/plain": [
       "Classifier(\n",
       "  (linear1): Linear(in_features=784, out_features=256, bias=True)\n",
       "  (linear2): Linear(in_features=256, out_features=128, bias=True)\n",
       "  (linear3): Linear(in_features=128, out_features=10, bias=True)\n",
       "  (dropout): Dropout(p=0.4, inplace=False)\n",
       ")"
      ]
     },
     "execution_count": 12,
     "metadata": {},
     "output_type": "execute_result"
    }
   ],
   "source": [
    "model = Classifier()\n",
    "model"
   ]
  },
  {
   "cell_type": "code",
   "execution_count": 13,
   "metadata": {},
   "outputs": [
    {
     "name": "stdout",
     "output_type": "stream",
     "text": [
      "----------------------------------------------------------------\n",
      "        Layer (type)               Output Shape         Param #\n",
      "================================================================\n",
      "            Linear-1                  [-1, 256]         200,960\n",
      "           Dropout-2                  [-1, 256]               0\n",
      "            Linear-3                  [-1, 128]          32,896\n",
      "           Dropout-4                  [-1, 128]               0\n",
      "            Linear-5                   [-1, 10]           1,290\n",
      "================================================================\n",
      "Total params: 235,146\n",
      "Trainable params: 235,146\n",
      "Non-trainable params: 0\n",
      "----------------------------------------------------------------\n",
      "Input size (MB): 0.00\n",
      "Forward/backward pass size (MB): 0.01\n",
      "Params size (MB): 0.90\n",
      "Estimated Total Size (MB): 0.91\n",
      "----------------------------------------------------------------\n"
     ]
    }
   ],
   "source": [
    "from torchsummary import summary\n",
    "summary(model, input_size = (1,28,28))"
   ]
  },
  {
   "cell_type": "markdown",
   "metadata": {},
   "source": [
    "## Task 4 : Training Neural Network"
   ]
  },
  {
   "cell_type": "code",
   "execution_count": 14,
   "metadata": {},
   "outputs": [],
   "source": [
    "from torch import optim\n",
    "from utils import multiclass_accuracy, view_classify\n",
    "\n",
    "criterion = nn.NLLLoss()\n",
    "optimizer = optim.Adam(model.parameters(), lr = 0.003)\n",
    "epochs = 10"
   ]
  },
  {
   "cell_type": "code",
   "execution_count": 16,
   "metadata": {},
   "outputs": [
    {
     "name": "stdout",
     "output_type": "stream",
     "text": [
      "Epoch: 1 Train loss: 0.4295 Valid loss: 0.2381 Valid acc: 0.9294381737709045\n",
      "Epoch: 2 Train loss: 0.3924 Valid loss: 0.2390 Valid acc: 0.931432843208313\n",
      "Epoch: 3 Train loss: 0.3783 Valid loss: 0.2259 Valid acc: 0.931432843208313\n",
      "Epoch: 4 Train loss: 0.3661 Valid loss: 0.2099 Valid acc: 0.9384142160415649\n",
      "Epoch: 5 Train loss: 0.3582 Valid loss: 0.2405 Valid acc: 0.9250332713127136\n",
      "Epoch: 6 Train loss: 0.3440 Valid loss: 0.1996 Valid acc: 0.9408244490623474\n",
      "Epoch: 7 Train loss: 0.3355 Valid loss: 0.1847 Valid acc: 0.9473903179168701\n",
      "Epoch: 8 Train loss: 0.3362 Valid loss: 0.1992 Valid acc: 0.9438164830207825\n",
      "Epoch: 9 Train loss: 0.3319 Valid loss: 0.1963 Valid acc: 0.9432346820831299\n",
      "Epoch: 10 Train loss: 0.3220 Valid loss: 0.1831 Valid acc: 0.9473903179168701\n"
     ]
    }
   ],
   "source": [
    "for e in range(epochs):\n",
    "    train_loss = 0.0\n",
    "    valid_loss = 0.0\n",
    "    valid_acc = 0.0\n",
    "    \n",
    "    model.train()\n",
    "    \n",
    "    for images, labels in trainloader:\n",
    "        # Gradient methods could work better with log probabilities.\n",
    "        logps = model(images)\n",
    "        optimizer.zero_grad()\n",
    "        loss = criterion(logps, labels)\n",
    "        loss.backward()\n",
    "        optimizer.step()\n",
    "        train_loss += loss.item()\n",
    "        \n",
    "    model.eval()\n",
    "    \n",
    "    for images, labels in validloader:\n",
    "        logps = model(images)\n",
    "        # remove log\n",
    "        ps = torch.exp(logps)\n",
    "        loss = criterion(logps, labels)\n",
    "        valid_acc += multiclass_accuracy(ps, labels)\n",
    "        valid_loss += loss.item()\n",
    "        \n",
    "    train_loss = train_loss / len(trainloader)\n",
    "    valid_loss = valid_loss / len(validloader)\n",
    "    valid_acc = valid_acc / len(validloader)\n",
    "    \n",
    "    print(\"Epoch: {} Train loss: {:.4f} Valid loss: {:.4f} Valid acc: {}\".format(e+1, train_loss, valid_loss, valid_acc))\n",
    "    "
   ]
  },
  {
   "cell_type": "markdown",
   "metadata": {},
   "source": [
    "## Task 5 : Evaluating the model"
   ]
  },
  {
   "cell_type": "code",
   "execution_count": 18,
   "metadata": {},
   "outputs": [
    {
     "name": "stdout",
     "output_type": "stream",
     "text": [
      "Test loss: 0.1686911350412733 Test acc: 0.9501393437385559\n"
     ]
    }
   ],
   "source": [
    "model.eval()\n",
    "\n",
    "test_loss = 0.0\n",
    "test_acc = 0.0\n",
    "\n",
    "for images, labels in testloader:\n",
    "    logps = model(images)\n",
    "    ps = torch.exp(logps)\n",
    "    loss = criterion(logps, labels)\n",
    "    test_acc += multiclass_accuracy(ps, labels)\n",
    "    test_loss += loss.item()\n",
    "        \n",
    "test_loss = test_loss / len(testloader)\n",
    "test_acc = test_acc / len(testloader)\n",
    "\n",
    "print(\"Test loss: {} Test acc: {}\".format(test_loss, test_acc))"
   ]
  },
  {
   "cell_type": "code",
   "execution_count": 21,
   "metadata": {},
   "outputs": [
    {
     "name": "stdout",
     "output_type": "stream",
     "text": [
      "Label is 8\n"
     ]
    },
    {
     "data": {
      "image/png": "[encoded data removed]",
      "text/plain": [
       "<Figure size 432x648 with 2 Axes>"
      ]
     },
     "metadata": {
      "needs_background": "light"
     },
     "output_type": "display_data"
    }
   ],
   "source": [
    "dataiter = iter(testloader)\n",
    "images, labels = dataiter.next()\n",
    "\n",
    "idx = 50\n",
    "logps = model(images[idx])\n",
    "ps = torch.exp(logps)\n",
    "\n",
    "view_classify(images[idx], ps)\n",
    "print(\"Label is {}\".format(labels[idx]))"
   ]
  },
  {
   "cell_type": "code",
   "execution_count": null,
   "metadata": {},
   "outputs": [],
   "source": []
  }
 ],
 "metadata": {
  "kernelspec": {
   "display_name": "Python 3",
   "language": "python",
   "name": "python3"
  },
  "language_info": {
   "codemirror_mode": {
    "name": "ipython",
    "version": 3
   },
   "file_extension": ".py",
   "mimetype": "text/x-python",
   "name": "python",
   "nbconvert_exporter": "python",
   "pygments_lexer": "ipython3",
   "version": "3.6.9"
  }
 },
 "nbformat": 4,
 "nbformat_minor": 4
}
